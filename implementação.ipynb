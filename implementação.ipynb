{
 "cells": [
  {
   "cell_type": "markdown",
   "metadata": {},
   "source": [
    "# Implementações Para a Disciplina de Métodos Quantitativos\n",
    "\n",
    "### Aluno: João Pedro Oliveira Batisteli\n",
    "\n",
    "**Bibliotecas Utilizadas:**\n",
    "\n",
    "- **Numpy**: A biblioteca NumPy é uma biblioteca Python para computação científica. Ela fornece arrays multidimensionais de alta performance e ferramentas para manipulação. O NumPy é essencial para tarefas como análise de dados, álgebra linear e otimização.\n",
    "- **Matplotlib**: A biblioteca Matplotlib é uma biblioteca Python para criação de gráficos e visualização de dados. Ela oferece uma ampla gama de funções para criar gráficos 2D e 3D, incluindo histogramas, gráficos de dispersão, gráficos de linhas e muito mais. O Matplotlib é uma ferramenta poderosa para comunicar insights de dados de forma eficaz.\n",
    "\n",
    "**Introdução**:\n",
    "\n",
    "Neste repositório, serão implementadas diversas tarefas relacionadas à disciplina de Métodos Quantitativos utilizando as bibliotecas NumPy e Matplotlib. As tarefas abordarão conceitos como estatística descritiva, probabilidade, inferência estatística e regressão linear. Através da implementação prática, buscaremos solidificar o conhecimento teórico e desenvolver habilidades de programação para análise de dados."
   ]
  },
  {
   "cell_type": "markdown",
   "metadata": {},
   "source": [
    "Importação das bibliotecas"
   ]
  },
  {
   "cell_type": "code",
   "execution_count": 1,
   "metadata": {},
   "outputs": [],
   "source": [
    "import numpy as np"
   ]
  },
  {
   "cell_type": "markdown",
   "metadata": {},
   "source": [
    "O NumPy oferece diversas funções para a geração de arrays com valores aleatórios, permitindo a criação de conjuntos de dados para experimentos, simulações e análise estatística. Neste trabalho, será explorado as principais funções de inicialização randômica do NumPy e seus usos práticos.\n",
    "\n",
    "**Exemplos:**\n",
    "\n",
    "1. Array unidimensional com 10 números aleatórios entre 0 e 1:"
   ]
  },
  {
   "cell_type": "code",
   "execution_count": 2,
   "metadata": {},
   "outputs": [
    {
     "data": {
      "text/plain": [
       "array([0.89516201, 0.28993616, 0.06819741, 0.88904376, 0.7600917 ,\n",
       "       0.51272267, 0.89090341, 0.43373272, 0.85260612, 0.52502091])"
      ]
     },
     "execution_count": 2,
     "metadata": {},
     "output_type": "execute_result"
    }
   ],
   "source": [
    "random_array = np.random.rand(10)\n",
    "random_array"
   ]
  },
  {
   "cell_type": "markdown",
   "metadata": {},
   "source": [
    "2. Gerando um array unidimensional com 5 números aleatórios distribuídos normalmente:"
   ]
  },
  {
   "cell_type": "code",
   "execution_count": 3,
   "metadata": {},
   "outputs": [
    {
     "data": {
      "text/plain": [
       "array([ 0.88322215, -0.545298  , -0.44478278, -0.23386582, -0.89111361])"
      ]
     },
     "execution_count": 3,
     "metadata": {},
     "output_type": "execute_result"
    }
   ],
   "source": [
    "normal_randon_array = np.random.randn(5) \n",
    "normal_randon_array"
   ]
  },
  {
   "cell_type": "markdown",
   "metadata": {},
   "source": [
    "3. Gerando um array unidimensional com 15 números inteiros aleatórios maiores que 0 e menores que 20"
   ]
  },
  {
   "cell_type": "code",
   "execution_count": 8,
   "metadata": {},
   "outputs": [
    {
     "data": {
      "text/plain": [
       "array([ 0,  4,  9, 16,  4, 10, 14, 13, 14, 16, 14,  0,  0, 15, 19])"
      ]
     },
     "execution_count": 8,
     "metadata": {},
     "output_type": "execute_result"
    }
   ],
   "source": [
    "randon_int_array = np.random.randint(low=0, high=20, size=15)\n",
    "randon_int_array"
   ]
  },
  {
   "cell_type": "markdown",
   "metadata": {},
   "source": [
    "### Arrays Bidimensionais com NumPy\n",
    "As mesmas funções de inicialização randômica do NumPy vistas anteriormente podem ser utilizadas para gerar arrays bidimensionais (matrizes). Basta especificar a forma do array como argumento, informando o número de linhas e colunas desejadas. Por exemplo, para gerar uma matriz 2x3 com números aleatórios entre 0 e 1:"
   ]
  },
  {
   "cell_type": "code",
   "execution_count": 10,
   "metadata": {},
   "outputs": [
    {
     "data": {
      "text/plain": [
       "array([[0.37057637, 0.27566248, 0.03831312],\n",
       "       [0.09404363, 0.03671729, 0.05599205]])"
      ]
     },
     "execution_count": 10,
     "metadata": {},
     "output_type": "execute_result"
    }
   ],
   "source": [
    "randon_matrix = np.random.rand(2, 3)\n",
    "randon_matrix"
   ]
  },
  {
   "cell_type": "markdown",
   "metadata": {},
   "source": [
    "### Exemplos de Operações com Matrizes no NumPy\n",
    "\n",
    "O NumPy fornece diversas funções para realizar operações matemáticas com matrizes, abrangendo desde operações básicas como adição e subtração até operações mais complexas como multiplicação de matrizes e inversão de matrizes.\n",
    "\n",
    "A seguir serão demonstrados alguns exemplos práticos de operações com matrizes no NumPy."
   ]
  },
  {
   "cell_type": "markdown",
   "metadata": {},
   "source": [
    "1. Definição de duas matrizes aleatórias 3x3"
   ]
  },
  {
   "cell_type": "code",
   "execution_count": 13,
   "metadata": {},
   "outputs": [
    {
     "data": {
      "text/plain": [
       "array([[0.24497364, 0.61909257, 0.60488465],\n",
       "       [0.97590593, 0.63856715, 0.92133642],\n",
       "       [0.53581587, 0.92683181, 0.02806919]])"
      ]
     },
     "execution_count": 13,
     "metadata": {},
     "output_type": "execute_result"
    }
   ],
   "source": [
    "random_matrix_1 = np.random.rand(3, 3)\n",
    "random_matrix_1"
   ]
  },
  {
   "cell_type": "code",
   "execution_count": 14,
   "metadata": {},
   "outputs": [
    {
     "data": {
      "text/plain": [
       "array([[0.81132167, 0.20544876, 0.92512654],\n",
       "       [0.72138587, 0.14462953, 0.74461225],\n",
       "       [0.08834721, 0.46654631, 0.68844828]])"
      ]
     },
     "execution_count": 14,
     "metadata": {},
     "output_type": "execute_result"
    }
   ],
   "source": [
    "random_matrix_2 = np.random.rand(3, 3)\n",
    "random_matrix_2"
   ]
  },
  {
   "cell_type": "markdown",
   "metadata": {},
   "source": [
    "2. Adição e Subtração de Matrizes\n",
    "\n",
    "A adição e subtração de matrizes só podem ser realizadas se as matrizes tiverem as mesmas dimensões. A soma de dois elementos na mesma posição das matrizes resulta em um novo elemento na mesma posição da matriz resultante."
   ]
  },
  {
   "cell_type": "code",
   "execution_count": 15,
   "metadata": {},
   "outputs": [
    {
     "data": {
      "text/plain": [
       "array([[1.05629531, 0.82454133, 1.53001118],\n",
       "       [1.69729179, 0.78319668, 1.66594866],\n",
       "       [0.62416308, 1.39337813, 0.71651747]])"
      ]
     },
     "execution_count": 15,
     "metadata": {},
     "output_type": "execute_result"
    }
   ],
   "source": [
    "sum = random_matrix_1 + random_matrix_2\n",
    "sum"
   ]
  },
  {
   "cell_type": "code",
   "execution_count": 16,
   "metadata": {},
   "outputs": [
    {
     "data": {
      "text/plain": [
       "array([[-0.56634803,  0.41364381, -0.32024189],\n",
       "       [ 0.25452006,  0.49393762,  0.17672417],\n",
       "       [ 0.44746866,  0.4602855 , -0.6603791 ]])"
      ]
     },
     "execution_count": 16,
     "metadata": {},
     "output_type": "execute_result"
    }
   ],
   "source": [
    "sub = random_matrix_1 - random_matrix_2\n",
    "sub"
   ]
  }
 ],
 "metadata": {
  "kernelspec": {
   "display_name": "Python 3",
   "language": "python",
   "name": "python3"
  },
  "language_info": {
   "codemirror_mode": {
    "name": "ipython",
    "version": 3
   },
   "file_extension": ".py",
   "mimetype": "text/x-python",
   "name": "python",
   "nbconvert_exporter": "python",
   "pygments_lexer": "ipython3",
   "version": "undefined.undefined.undefined"
  }
 },
 "nbformat": 4,
 "nbformat_minor": 2
}
