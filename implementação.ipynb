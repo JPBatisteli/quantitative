{
 "cells": [
  {
   "cell_type": "markdown",
   "metadata": {},
   "source": [
    "# Implementações Para a Disciplina de Métodos Quantitativos\n",
    "\n",
    "### Aluno: João Pedro Oliveira Batisteli\n",
    "\n",
    "**Bibliotecas Utilizadas:**\n",
    "\n",
    "- **Numpy**: A biblioteca NumPy é uma biblioteca Python para computação científica. Ela fornece arrays multidimensionais de alta performance e ferramentas para manipulação. \n",
    "\n",
    "- **Matplotlib**: A biblioteca Matplotlib é uma biblioteca Python para criação de gráficos e visualização de dados. Ela oferece uma ampla gama de funções para criar gráficos 2D e 3D, incluindo histogramas, gráficos de dispersão, gráficos de linhas e muito mais. O Matplotlib é uma ferramenta poderosa para comunicar insights de dados de forma eficaz.\n",
    "\n",
    "**Introdução**:\n",
    "\n",
    "Neste repositório, serão implementadas diversas tarefas relacionadas à disciplina de Métodos Quantitativos utilizando as bibliotecas NumPy e Matplotlib. As tarefas abordarão conceitos como estatística descritiva, probabilidade, inferência estatística e regressão linear. Através da implementação prática, buscaremos solidificar o conhecimento teórico e desenvolver habilidades de programação para análise de dados."
   ]
  },
  {
   "cell_type": "markdown",
   "metadata": {},
   "source": [
    "Importação das bibliotecas"
   ]
  },
  {
   "cell_type": "code",
   "execution_count": 1,
   "metadata": {},
   "outputs": [],
   "source": [
    "import numpy as np"
   ]
  },
  {
   "cell_type": "markdown",
   "metadata": {},
   "source": [
    "### 1 - Geração de Arrays Utilizando NumPy\n",
    "\n",
    "O NumPy oferece diversas funções para a geração de arrays com valores aleatórios, permitindo a criação de conjuntos de dados para experimentos, simulações e análise estatística. Neste trabalho, será explorado as principais funções de inicialização randômica do NumPy e seus usos práticos.\n",
    "\n",
    "**Exemplos:**\n",
    "\n",
    "1.1. Array unidimensional com 10 números aleatórios entre 0 e 1:"
   ]
  },
  {
   "cell_type": "code",
   "execution_count": 2,
   "metadata": {},
   "outputs": [
    {
     "data": {
      "text/plain": [
       "array([0.26120694, 0.11540604, 0.50387949, 0.50879903, 0.30748023,\n",
       "       0.10890879, 0.27841573, 0.07032769, 0.45739522, 0.48269727])"
      ]
     },
     "execution_count": 2,
     "metadata": {},
     "output_type": "execute_result"
    }
   ],
   "source": [
    "random_array = np.random.rand(10)\n",
    "random_array"
   ]
  },
  {
   "cell_type": "markdown",
   "metadata": {},
   "source": [
    "1.2. Gerando um array unidimensional com 5 números aleatórios distribuídos normalmente:"
   ]
  },
  {
   "cell_type": "code",
   "execution_count": 3,
   "metadata": {},
   "outputs": [
    {
     "data": {
      "text/plain": [
       "array([ 0.29794584, -1.61792878,  0.07159431,  0.18717375,  1.86140712])"
      ]
     },
     "execution_count": 3,
     "metadata": {},
     "output_type": "execute_result"
    }
   ],
   "source": [
    "normal_randon_array = np.random.randn(5) \n",
    "normal_randon_array"
   ]
  },
  {
   "cell_type": "markdown",
   "metadata": {},
   "source": [
    "1.3. Gerando um array unidimensional com 15 números inteiros aleatórios maiores que 0 e menores que 20"
   ]
  },
  {
   "cell_type": "code",
   "execution_count": 4,
   "metadata": {},
   "outputs": [
    {
     "data": {
      "text/plain": [
       "array([ 9, 18, 18,  9,  0, 19, 13, 17, 10,  3,  5,  0,  7,  8, 12])"
      ]
     },
     "execution_count": 4,
     "metadata": {},
     "output_type": "execute_result"
    }
   ],
   "source": [
    "randon_int_array = np.random.randint(low=0, high=20, size=15)\n",
    "randon_int_array"
   ]
  },
  {
   "cell_type": "markdown",
   "metadata": {},
   "source": [
    "1.4. Arrays Bidimensionais com NumPy\n",
    "\n",
    "As mesmas funções de inicialização randômica do NumPy vistas anteriormente podem ser utilizadas para gerar arrays bidimensionais (matrizes). Basta especificar a forma do array como argumento, informando o número de linhas e colunas desejadas. Por exemplo, para gerar uma matriz 2x3 com números aleatórios entre 0 e 1:"
   ]
  },
  {
   "cell_type": "code",
   "execution_count": 5,
   "metadata": {},
   "outputs": [
    {
     "data": {
      "text/plain": [
       "array([[0.98106939, 0.88528671, 0.89057165],\n",
       "       [0.25762712, 0.26654439, 0.01535017]])"
      ]
     },
     "execution_count": 5,
     "metadata": {},
     "output_type": "execute_result"
    }
   ],
   "source": [
    "randon_matrix = np.random.rand(2, 3)\n",
    "randon_matrix"
   ]
  },
  {
   "cell_type": "markdown",
   "metadata": {},
   "source": [
    "### 2 - Exemplos de Operações com Matrizes no NumPy\n",
    "\n",
    "O NumPy fornece diversas funções para realizar operações matemáticas com matrizes, abrangendo desde operações básicas como adição e subtração até operações mais complexas como multiplicação de matrizes e inversão de matrizes.\n",
    "\n",
    "A seguir serão demonstrados alguns exemplos práticos de operações com matrizes no NumPy."
   ]
  },
  {
   "cell_type": "markdown",
   "metadata": {},
   "source": [
    "Definição de duas matrizes aleatórias 3x3"
   ]
  },
  {
   "cell_type": "code",
   "execution_count": 6,
   "metadata": {},
   "outputs": [
    {
     "data": {
      "text/plain": [
       "array([[0.72928675, 0.54323739, 0.03907707],\n",
       "       [0.2986572 , 0.98625621, 0.60282432],\n",
       "       [0.20379935, 0.04145115, 0.46525472]])"
      ]
     },
     "execution_count": 6,
     "metadata": {},
     "output_type": "execute_result"
    }
   ],
   "source": [
    "random_matrix_1 = np.random.rand(3, 3)\n",
    "random_matrix_1"
   ]
  },
  {
   "cell_type": "code",
   "execution_count": 7,
   "metadata": {},
   "outputs": [
    {
     "data": {
      "text/plain": [
       "array([[0.69145545, 0.10287053, 0.01620292],\n",
       "       [0.35694269, 0.97080764, 0.30282457],\n",
       "       [0.92870956, 0.89151583, 0.03039446]])"
      ]
     },
     "execution_count": 7,
     "metadata": {},
     "output_type": "execute_result"
    }
   ],
   "source": [
    "random_matrix_2 = np.random.rand(3, 3)\n",
    "random_matrix_2"
   ]
  },
  {
   "cell_type": "markdown",
   "metadata": {},
   "source": [
    "2.1. Adição e Subtração de Matrizes\n",
    "\n",
    "A adição e subtração de matrizes só podem ser realizadas se as matrizes tiverem as mesmas dimensões. A soma de dois elementos na mesma posição das matrizes resulta em um novo elemento na mesma posição da matriz resultante."
   ]
  },
  {
   "cell_type": "code",
   "execution_count": 8,
   "metadata": {},
   "outputs": [
    {
     "data": {
      "text/plain": [
       "array([[1.4207422 , 0.64610792, 0.05528   ],\n",
       "       [0.65559988, 1.95706385, 0.90564889],\n",
       "       [1.13250891, 0.93296699, 0.49564918]])"
      ]
     },
     "execution_count": 8,
     "metadata": {},
     "output_type": "execute_result"
    }
   ],
   "source": [
    "sum = random_matrix_1 + random_matrix_2\n",
    "sum"
   ]
  },
  {
   "cell_type": "code",
   "execution_count": 9,
   "metadata": {},
   "outputs": [
    {
     "data": {
      "text/plain": [
       "array([[ 0.03783129,  0.44036685,  0.02287415],\n",
       "       [-0.05828549,  0.01544856,  0.29999974],\n",
       "       [-0.7249102 , -0.85006468,  0.43486025]])"
      ]
     },
     "execution_count": 9,
     "metadata": {},
     "output_type": "execute_result"
    }
   ],
   "source": [
    "sub = random_matrix_1 - random_matrix_2\n",
    "sub"
   ]
  },
  {
   "cell_type": "markdown",
   "metadata": {},
   "source": [
    "2.2. Multiplicação de Matrizes\n",
    "\n",
    "A multiplicação de duas matrizes $A$ (dimensão $m \\times n$) e $B$ (dimensão $n \\times p$) resulta em uma nova matriz $C$ (dimensão $m \\times p$). Cada elemento $C[i, j]$ da matriz resultante é calculado como o produto escalar da linha $i$ da matriz $A$ com a coluna $j$ da matriz $B$.\n",
    "\n",
    "A biblioteca NumPy possui duas funções para realizar a multiplicação de matrizes, a ```np.dot()``` e a ```np.matmul()```, sendo a última otimizada para multiplicação de matrizes de grandes dimensões."
   ]
  },
  {
   "cell_type": "code",
   "execution_count": 10,
   "metadata": {},
   "outputs": [
    {
     "data": {
      "text/plain": [
       "array([[0.73446516, 0.63723895, 0.17750993],\n",
       "       [1.11839379, 1.52561551, 0.32182426],\n",
       "       [0.58780036, 0.47598799, 0.02999574]])"
      ]
     },
     "execution_count": 10,
     "metadata": {},
     "output_type": "execute_result"
    }
   ],
   "source": [
    "mul1 = np.matmul(random_matrix_1, random_matrix_2)\n",
    "mul1"
   ]
  },
  {
   "cell_type": "code",
   "execution_count": 11,
   "metadata": {},
   "outputs": [
    {
     "data": {
      "text/plain": [
       "array([[0.73446516, 0.63723895, 0.17750993],\n",
       "       [1.11839379, 1.52561551, 0.32182426],\n",
       "       [0.58780036, 0.47598799, 0.02999574]])"
      ]
     },
     "execution_count": 11,
     "metadata": {},
     "output_type": "execute_result"
    }
   ],
   "source": [
    "mul2 = np.dot(random_matrix_1, random_matrix_2)\n",
    "mul2"
   ]
  },
  {
   "cell_type": "markdown",
   "metadata": {},
   "source": [
    "### 3 - Matriz Transposta, Identidade e Inversa\n",
    "\n",
    "3.1. Matriz Transposta\n",
    "\n",
    "A matriz transposta de uma matriz $A$ é obtida pela troca de suas linhas por colunas. Ou seja, o elemento $A[i, j]$ da matriz original se torna $A[j, i]$ na matriz transposta. A transposição da matriz $A$ é representada por $Aᵀ$\n",
    "\n",
    "O NumPy oferece a função ```np.transpose()``` para calcular a transposta de uma matriz.\n"
   ]
  },
  {
   "cell_type": "code",
   "execution_count": 12,
   "metadata": {},
   "outputs": [
    {
     "data": {
      "text/plain": [
       "array([[0.72928675, 0.2986572 , 0.20379935],\n",
       "       [0.54323739, 0.98625621, 0.04145115],\n",
       "       [0.03907707, 0.60282432, 0.46525472]])"
      ]
     },
     "execution_count": 12,
     "metadata": {},
     "output_type": "execute_result"
    }
   ],
   "source": [
    "transpose_matrix_1 = np.transpose(random_matrix_1)\n",
    "transpose_matrix_1"
   ]
  },
  {
   "cell_type": "markdown",
   "metadata": {},
   "source": [
    "A matriz transposta também pode ser obtida usando o objeto $ndarray.T$."
   ]
  },
  {
   "cell_type": "code",
   "execution_count": 13,
   "metadata": {},
   "outputs": [
    {
     "data": {
      "text/plain": [
       "array([[0.72928675, 0.2986572 , 0.20379935],\n",
       "       [0.54323739, 0.98625621, 0.04145115],\n",
       "       [0.03907707, 0.60282432, 0.46525472]])"
      ]
     },
     "execution_count": 13,
     "metadata": {},
     "output_type": "execute_result"
    }
   ],
   "source": [
    "random_matrix_1.T"
   ]
  },
  {
   "cell_type": "markdown",
   "metadata": {},
   "source": [
    "3.2. Matriz Identidade\n",
    "\n",
    "A matriz identidade $I$ é uma matriz quadrada na qual os elementos da diagonal principal são iguais a 1 e os demais elementos são iguais a 0.\n",
    "\n",
    "O NumPy oferece a função ```np.eye()``` para criar uma matriz identidade."
   ]
  },
  {
   "cell_type": "code",
   "execution_count": 14,
   "metadata": {},
   "outputs": [
    {
     "data": {
      "text/plain": [
       "array([[1., 0., 0.],\n",
       "       [0., 1., 0.],\n",
       "       [0., 0., 1.]])"
      ]
     },
     "execution_count": 14,
     "metadata": {},
     "output_type": "execute_result"
    }
   ],
   "source": [
    "iden = np.eye(3)\n",
    "iden"
   ]
  },
  {
   "cell_type": "markdown",
   "metadata": {},
   "source": [
    "3.3. Matriz Inversa\n",
    "\n",
    "A matriz inversa de uma matriz $A$ é uma matriz $B$ que, quando multiplicada por $A$, resulta na matriz identidade: $AB = I$. Nem todas as matrizes possuem inversa. Uma matriz só possui inversa se for quadrada e não singular.\n",
    "\n",
    "O NumPy oferece a função ```np.linalg.inv()``` para calcular a inversa de uma matriz, caso a matriz seja invertível."
   ]
  },
  {
   "cell_type": "code",
   "execution_count": 17,
   "metadata": {},
   "outputs": [
    {
     "data": {
      "text/plain": [
       "array([[ 1.44478436, -0.83623623,  0.96215165],\n",
       "       [-0.0536008 ,  1.10335424, -1.42509937],\n",
       "       [-0.62809531,  0.26800179,  1.85486809]])"
      ]
     },
     "execution_count": 17,
     "metadata": {},
     "output_type": "execute_result"
    }
   ],
   "source": [
    "inv = np.linalg.inv(random_matrix_1)\n",
    "inv"
   ]
  },
  {
   "cell_type": "markdown",
   "metadata": {},
   "source": [
    "Verificando se $random\\_matrix\\_1 . inv = I$"
   ]
  },
  {
   "cell_type": "code",
   "execution_count": 18,
   "metadata": {},
   "outputs": [
    {
     "data": {
      "text/plain": [
       "array([[ 1.00000000e+00,  3.95643194e-18,  7.43219961e-17],\n",
       "       [-2.09029057e-17,  1.00000000e+00,  2.15481799e-16],\n",
       "       [-7.41671534e-17,  3.30369590e-17,  1.00000000e+00]])"
      ]
     },
     "execution_count": 18,
     "metadata": {},
     "output_type": "execute_result"
    }
   ],
   "source": [
    "np.matmul(random_matrix_1, inv)"
   ]
  },
  {
   "cell_type": "markdown",
   "metadata": {},
   "source": [
    "### 4 - Autovalore, Autovetores e Determinante\n",
    "\n",
    "4.1. Autovalores e Autovetores\n",
    "\n",
    "Um autovalor $λ$ de uma matriz $A$ é um escalar tal que existe um vetor não nulo $x$, chamado autovetor associado a $λ$, que satisfaz a seguinte equação:\n",
    "\n",
    "$A * x = λ * x$\n",
    "\n",
    "Em outras palavras, um autovalor $λ$ indica o quanto um vetor $x$ é escalado quando multiplicado pela matriz $A$. O autovetor $x$ é a direção na qual o vetor é escalado por $λ$. O NumPy oferece a função ```np.linalg.eig()``` para calcular autovalores e autovetores de uma matriz."
   ]
  },
  {
   "cell_type": "code",
   "execution_count": 21,
   "metadata": {},
   "outputs": [
    {
     "data": {
      "text/plain": [
       "array([-0.37228132,  5.37228132])"
      ]
     },
     "execution_count": 21,
     "metadata": {},
     "output_type": "execute_result"
    }
   ],
   "source": [
    "A = np.array([[1, 2], [3, 4]])\n",
    "autovalores, autovetores = np.linalg.eig(A)\n",
    "autovalores"
   ]
  },
  {
   "cell_type": "code",
   "execution_count": 23,
   "metadata": {},
   "outputs": [
    {
     "data": {
      "text/plain": [
       "array([[-0.82456484, -0.41597356],\n",
       "       [ 0.56576746, -0.90937671]])"
      ]
     },
     "execution_count": 23,
     "metadata": {},
     "output_type": "execute_result"
    }
   ],
   "source": [
    "autovetores"
   ]
  }
 ],
 "metadata": {
  "kernelspec": {
   "display_name": "Python 3",
   "language": "python",
   "name": "python3"
  },
  "language_info": {
   "codemirror_mode": {
    "name": "ipython",
    "version": 3
   },
   "file_extension": ".py",
   "mimetype": "text/x-python",
   "name": "python",
   "nbconvert_exporter": "python",
   "pygments_lexer": "ipython3",
   "version": "3.9.13"
  }
 },
 "nbformat": 4,
 "nbformat_minor": 2
}
