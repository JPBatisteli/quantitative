{
 "cells": [
  {
   "cell_type": "markdown",
   "metadata": {},
   "source": [
    "# Implementações Para a Disciplina de Métodos Quantitativos\n",
    "\n",
    "### Aluno: João Pedro Oliveira Batisteli\n",
    "\n",
    "**Bibliotecas Utilizadas:**\n",
    "\n",
    "- **Numpy**: A biblioteca NumPy é uma biblioteca Python para computação científica. Ela fornece arrays multidimensionais de alta performance e ferramentas para manipulação. \n",
    "\n",
    "- **Matplotlib**: A biblioteca Matplotlib é uma biblioteca Python para criação de gráficos e visualização de dados. Ela oferece uma ampla gama de funções para criar gráficos 2D e 3D, incluindo histogramas, gráficos de dispersão, gráficos de linhas e muito mais. O Matplotlib é uma ferramenta poderosa para comunicar insights de dados de forma eficaz.\n",
    "\n",
    "**Introdução**:\n",
    "\n",
    "Neste repositório, serão implementadas diversas tarefas relacionadas à disciplina de Métodos Quantitativos utilizando as bibliotecas NumPy e Matplotlib. As tarefas abordarão conceitos como estatística descritiva, probabilidade, inferência estatística e regressão linear. Através da implementação prática, buscaremos solidificar o conhecimento teórico e desenvolver habilidades de programação para análise de dados."
   ]
  },
  {
   "cell_type": "markdown",
   "metadata": {},
   "source": [
    "Importação das bibliotecas"
   ]
  },
  {
   "cell_type": "code",
   "execution_count": 2,
   "metadata": {},
   "outputs": [],
   "source": [
    "import numpy as np\n",
    "import math\n",
    "import matplotlib.pyplot as plt\n",
    "from sklearn.decomposition import PCA"
   ]
  },
  {
   "cell_type": "markdown",
   "metadata": {},
   "source": [
    "### 1 - Geração de Arrays Utilizando NumPy\n",
    "\n",
    "O NumPy oferece diversas funções para a geração de arrays com valores aleatórios, permitindo a criação de conjuntos de dados para experimentos, simulações e análise estatística. Neste trabalho, será explorado as principais funções de inicialização randômica do NumPy e seus usos práticos.\n",
    "\n",
    "**Exemplos:**\n",
    "\n",
    "1.1. Array unidimensional com 10 números aleatórios entre 0 e 1:"
   ]
  },
  {
   "cell_type": "code",
   "execution_count": 42,
   "metadata": {},
   "outputs": [
    {
     "data": {
      "text/plain": [
       "array([0.64312252, 0.88174571, 0.853819  , 0.8277464 , 0.30860609,\n",
       "       0.48766804, 0.28323103, 0.5996996 , 0.22941007, 0.53664703])"
      ]
     },
     "execution_count": 42,
     "metadata": {},
     "output_type": "execute_result"
    }
   ],
   "source": [
    "random_array = np.random.rand(10)\n",
    "random_array"
   ]
  },
  {
   "cell_type": "markdown",
   "metadata": {},
   "source": [
    "1.2. Gerando um array unidimensional com 5 números aleatórios distribuídos normalmente:"
   ]
  },
  {
   "cell_type": "code",
   "execution_count": 43,
   "metadata": {},
   "outputs": [
    {
     "data": {
      "text/plain": [
       "array([-0.24209327,  1.54618325,  0.50670405, -0.87416978, -0.19038008])"
      ]
     },
     "execution_count": 43,
     "metadata": {},
     "output_type": "execute_result"
    }
   ],
   "source": [
    "normal_randon_array = np.random.randn(5) \n",
    "normal_randon_array"
   ]
  },
  {
   "cell_type": "markdown",
   "metadata": {},
   "source": [
    "1.3. Gerando um array unidimensional com 15 números inteiros aleatórios maiores que 0 e menores que 20"
   ]
  },
  {
   "cell_type": "code",
   "execution_count": 44,
   "metadata": {},
   "outputs": [
    {
     "data": {
      "text/plain": [
       "array([ 9, 14, 17,  6,  5, 10, 11,  5,  0,  1,  8,  8,  0, 10, 19])"
      ]
     },
     "execution_count": 44,
     "metadata": {},
     "output_type": "execute_result"
    }
   ],
   "source": [
    "randon_int_array = np.random.randint(low=0, high=20, size=15)\n",
    "randon_int_array"
   ]
  },
  {
   "cell_type": "markdown",
   "metadata": {},
   "source": [
    "1.4. Arrays Bidimensionais com NumPy\n",
    "\n",
    "As mesmas funções de inicialização randômica do NumPy vistas anteriormente podem ser utilizadas para gerar arrays bidimensionais (matrizes). Basta especificar a forma do array como argumento, informando o número de linhas e colunas desejadas. Por exemplo, para gerar uma matriz 2x3 com números aleatórios entre 0 e 1:"
   ]
  },
  {
   "cell_type": "code",
   "execution_count": 45,
   "metadata": {},
   "outputs": [
    {
     "data": {
      "text/plain": [
       "array([[0.44371663, 0.16149288, 0.55402709],\n",
       "       [0.28204192, 0.91609605, 0.21767364]])"
      ]
     },
     "execution_count": 45,
     "metadata": {},
     "output_type": "execute_result"
    }
   ],
   "source": [
    "randon_matrix = np.random.rand(2, 3)\n",
    "randon_matrix"
   ]
  },
  {
   "cell_type": "markdown",
   "metadata": {},
   "source": [
    "### 2 - Exemplos de Operações com Matrizes no NumPy\n",
    "\n",
    "O NumPy fornece diversas funções para realizar operações matemáticas com matrizes, abrangendo desde operações básicas como adição e subtração até operações mais complexas como multiplicação de matrizes e inversão de matrizes.\n",
    "\n",
    "A seguir serão demonstrados alguns exemplos práticos de operações com matrizes no NumPy."
   ]
  },
  {
   "cell_type": "markdown",
   "metadata": {},
   "source": [
    "Definição de duas matrizes aleatórias 3x3"
   ]
  },
  {
   "cell_type": "code",
   "execution_count": 46,
   "metadata": {},
   "outputs": [
    {
     "data": {
      "text/plain": [
       "array([[0.02813163, 0.61945694, 0.7330129 ],\n",
       "       [0.05812307, 0.5848161 , 0.92037434],\n",
       "       [0.65467913, 0.46337393, 0.02358406]])"
      ]
     },
     "execution_count": 46,
     "metadata": {},
     "output_type": "execute_result"
    }
   ],
   "source": [
    "random_matrix_1 = np.random.rand(3, 3)\n",
    "random_matrix_1"
   ]
  },
  {
   "cell_type": "code",
   "execution_count": 47,
   "metadata": {},
   "outputs": [
    {
     "data": {
      "text/plain": [
       "array([[0.78685307, 0.78402321, 0.41982963],\n",
       "       [0.65804646, 0.60253245, 0.47580903],\n",
       "       [0.1894178 , 0.27929383, 0.91084116]])"
      ]
     },
     "execution_count": 47,
     "metadata": {},
     "output_type": "execute_result"
    }
   ],
   "source": [
    "random_matrix_2 = np.random.rand(3, 3)\n",
    "random_matrix_2"
   ]
  },
  {
   "cell_type": "markdown",
   "metadata": {},
   "source": [
    "2.1. Adição e Subtração de Matrizes\n",
    "\n",
    "A adição e subtração de matrizes só podem ser realizadas se as matrizes tiverem as mesmas dimensões. A soma de dois elementos na mesma posição das matrizes resulta em um novo elemento na mesma posição da matriz resultante."
   ]
  },
  {
   "cell_type": "code",
   "execution_count": 48,
   "metadata": {},
   "outputs": [
    {
     "data": {
      "text/plain": [
       "array([[0.8149847 , 1.40348014, 1.15284253],\n",
       "       [0.71616953, 1.18734855, 1.39618337],\n",
       "       [0.84409694, 0.74266776, 0.93442522]])"
      ]
     },
     "execution_count": 48,
     "metadata": {},
     "output_type": "execute_result"
    }
   ],
   "source": [
    "sum = random_matrix_1 + random_matrix_2\n",
    "sum"
   ]
  },
  {
   "cell_type": "code",
   "execution_count": 49,
   "metadata": {},
   "outputs": [
    {
     "data": {
      "text/plain": [
       "array([[-0.75872144, -0.16456627,  0.31318327],\n",
       "       [-0.59992339, -0.01771635,  0.44456531],\n",
       "       [ 0.46526133,  0.1840801 , -0.8872571 ]])"
      ]
     },
     "execution_count": 49,
     "metadata": {},
     "output_type": "execute_result"
    }
   ],
   "source": [
    "sub = random_matrix_1 - random_matrix_2\n",
    "sub"
   ]
  },
  {
   "cell_type": "markdown",
   "metadata": {},
   "source": [
    "2.2. Multiplicação de Matrizes\n",
    "\n",
    "A multiplicação de duas matrizes $A$ (dimensão $m \\times n$) e $B$ (dimensão $n \\times p$) resulta em uma nova matriz $C$ (dimensão $m \\times p$). Cada elemento $C[i, j]$ da matriz resultante é calculado como o produto escalar da linha $i$ da matriz $A$ com a coluna $j$ da matriz $B$.\n",
    "\n",
    "A biblioteca NumPy possui duas funções para realizar a multiplicação de matrizes, a ```np.dot()``` e a ```np.matmul()```, sendo a última otimizada para multiplicação de matrizes de grandes dimensões."
   ]
  },
  {
   "cell_type": "code",
   "execution_count": 50,
   "metadata": {},
   "outputs": [
    {
     "data": {
      "text/plain": [
       "array([[0.5686126 , 0.60002474, 0.97421201],\n",
       "       [0.60490576, 0.65499538, 1.1409774 ],\n",
       "       [0.8245251 , 0.79906834, 0.51681253]])"
      ]
     },
     "execution_count": 50,
     "metadata": {},
     "output_type": "execute_result"
    }
   ],
   "source": [
    "mul1 = np.matmul(random_matrix_1, random_matrix_2)\n",
    "mul1"
   ]
  },
  {
   "cell_type": "code",
   "execution_count": 51,
   "metadata": {},
   "outputs": [
    {
     "data": {
      "text/plain": [
       "array([[0.5686126 , 0.60002474, 0.97421201],\n",
       "       [0.60490576, 0.65499538, 1.1409774 ],\n",
       "       [0.8245251 , 0.79906834, 0.51681253]])"
      ]
     },
     "execution_count": 51,
     "metadata": {},
     "output_type": "execute_result"
    }
   ],
   "source": [
    "mul2 = np.dot(random_matrix_1, random_matrix_2)\n",
    "mul2"
   ]
  },
  {
   "cell_type": "markdown",
   "metadata": {},
   "source": [
    "### 3 - Matriz Transposta, Identidade e Inversa\n",
    "\n",
    "3.1. Matriz Transposta\n",
    "\n",
    "A matriz transposta de uma matriz $A$ é obtida pela troca de suas linhas por colunas. Ou seja, o elemento $A[i, j]$ da matriz original se torna $A[j, i]$ na matriz transposta. A transposição da matriz $A$ é representada por $Aᵀ$\n",
    "\n",
    "O NumPy oferece a função ```np.transpose()``` para calcular a transposta de uma matriz.\n"
   ]
  },
  {
   "cell_type": "code",
   "execution_count": 52,
   "metadata": {},
   "outputs": [
    {
     "data": {
      "text/plain": [
       "array([[0.02813163, 0.05812307, 0.65467913],\n",
       "       [0.61945694, 0.5848161 , 0.46337393],\n",
       "       [0.7330129 , 0.92037434, 0.02358406]])"
      ]
     },
     "execution_count": 52,
     "metadata": {},
     "output_type": "execute_result"
    }
   ],
   "source": [
    "transpose_matrix_1 = np.transpose(random_matrix_1)\n",
    "transpose_matrix_1"
   ]
  },
  {
   "cell_type": "markdown",
   "metadata": {},
   "source": [
    "A matriz transposta também pode ser obtida usando o objeto $ndarray.T$."
   ]
  },
  {
   "cell_type": "code",
   "execution_count": 53,
   "metadata": {},
   "outputs": [
    {
     "data": {
      "text/plain": [
       "array([[0.02813163, 0.05812307, 0.65467913],\n",
       "       [0.61945694, 0.5848161 , 0.46337393],\n",
       "       [0.7330129 , 0.92037434, 0.02358406]])"
      ]
     },
     "execution_count": 53,
     "metadata": {},
     "output_type": "execute_result"
    }
   ],
   "source": [
    "random_matrix_1.T"
   ]
  },
  {
   "cell_type": "markdown",
   "metadata": {},
   "source": [
    "3.2. Matriz Identidade\n",
    "\n",
    "A matriz identidade $I$ é uma matriz quadrada na qual os elementos da diagonal principal são iguais a 1 e os demais elementos são iguais a 0.\n",
    "\n",
    "O NumPy oferece a função ```np.eye()``` para criar uma matriz identidade."
   ]
  },
  {
   "cell_type": "code",
   "execution_count": 54,
   "metadata": {},
   "outputs": [
    {
     "data": {
      "text/plain": [
       "array([[1., 0., 0.],\n",
       "       [0., 1., 0.],\n",
       "       [0., 0., 1.]])"
      ]
     },
     "execution_count": 54,
     "metadata": {},
     "output_type": "execute_result"
    }
   ],
   "source": [
    "iden = np.eye(3)\n",
    "iden"
   ]
  },
  {
   "cell_type": "markdown",
   "metadata": {},
   "source": [
    "3.3. Matriz Inversa\n",
    "\n",
    "A matriz inversa de uma matriz $A$ é uma matriz $B$ que, quando multiplicada por $A$, resulta na matriz identidade: $AB = I$. Nem todas as matrizes possuem inversa. Uma matriz só possui inversa se for quadrada e não singular.\n",
    "\n",
    "O NumPy oferece a função ```np.linalg.inv()``` para calcular a inversa de uma matriz, caso a matriz seja invertível."
   ]
  },
  {
   "cell_type": "code",
   "execution_count": 55,
   "metadata": {},
   "outputs": [
    {
     "data": {
      "text/plain": [
       "array([[-4.13136664,  3.25405402,  1.41609293],\n",
       "       [ 6.01836854, -4.79749116,  0.1673161 ],\n",
       "       [-3.56323613,  3.92939514, -0.19574298]])"
      ]
     },
     "execution_count": 55,
     "metadata": {},
     "output_type": "execute_result"
    }
   ],
   "source": [
    "inv = np.linalg.inv(random_matrix_1)\n",
    "inv"
   ]
  },
  {
   "cell_type": "markdown",
   "metadata": {},
   "source": [
    "Verificando se $random\\_matrix\\_1 . inv = I$"
   ]
  },
  {
   "cell_type": "code",
   "execution_count": 56,
   "metadata": {},
   "outputs": [
    {
     "data": {
      "text/plain": [
       "array([[ 1.00000000e+00, -4.51082918e-17, -2.37760752e-17],\n",
       "       [ 4.25735038e-16,  1.00000000e+00,  1.29284728e-17],\n",
       "       [-4.24296291e-16, -1.68465793e-16,  1.00000000e+00]])"
      ]
     },
     "execution_count": 56,
     "metadata": {},
     "output_type": "execute_result"
    }
   ],
   "source": [
    "np.matmul(random_matrix_1, inv)"
   ]
  },
  {
   "cell_type": "markdown",
   "metadata": {},
   "source": [
    "### 4 - Autovalore, Autovetores e Determinante\n",
    "\n",
    "4.1. Autovalores e Autovetores\n",
    "\n",
    "Um autovalor $λ$ de uma matriz $A$ é um escalar tal que existe um vetor não nulo $x$, chamado autovetor associado a $λ$, que satisfaz a seguinte equação:\n",
    "\n",
    "$A * x = λ * x$\n",
    "\n",
    "Em outras palavras, um autovalor $λ$ indica o quanto um vetor $x$ é escalado quando multiplicado pela matriz $A$. O autovetor $x$ é a direção na qual o vetor é escalado por $λ$. O NumPy oferece a função ```np.linalg.eig()``` para calcular autovalores e autovetores de uma matriz."
   ]
  },
  {
   "cell_type": "code",
   "execution_count": 57,
   "metadata": {},
   "outputs": [
    {
     "data": {
      "text/plain": [
       "array([-0.37228132,  5.37228132])"
      ]
     },
     "execution_count": 57,
     "metadata": {},
     "output_type": "execute_result"
    }
   ],
   "source": [
    "a = np.array([[1, 2], [3, 4]])\n",
    "autovalores, autovetores = np.linalg.eig(a)\n",
    "autovalores"
   ]
  },
  {
   "cell_type": "code",
   "execution_count": 58,
   "metadata": {},
   "outputs": [
    {
     "data": {
      "text/plain": [
       "array([[-0.82456484, -0.41597356],\n",
       "       [ 0.56576746, -0.90937671]])"
      ]
     },
     "execution_count": 58,
     "metadata": {},
     "output_type": "execute_result"
    }
   ],
   "source": [
    "autovetores"
   ]
  },
  {
   "cell_type": "markdown",
   "metadata": {},
   "source": [
    "4.2. Determinante\n",
    "\n",
    "O determinante de uma matriz quadrada $A$ é um valor escalar $det(A)$ que representa a propriedade geométrica do volume do paralelogramo formado pelos vetores colunas da matriz. O determinante também indica se a matriz é singular $(det(A) = 0)$ ou não singular $(det(A) ≠ 0)$.\n",
    "\n",
    "O NumPy oferece a função ```np.linalg.det()``` para calcular o determinante de uma matriz."
   ]
  },
  {
   "cell_type": "code",
   "execution_count": 59,
   "metadata": {},
   "outputs": [
    {
     "data": {
      "text/plain": [
       "-2.0000000000000004"
      ]
     },
     "execution_count": 59,
     "metadata": {},
     "output_type": "execute_result"
    }
   ],
   "source": [
    "determinante = np.linalg.det(a)\n",
    "determinante"
   ]
  },
  {
   "cell_type": "markdown",
   "metadata": {},
   "source": [
    "### 5 - Teorema Central do Limite\n",
    "\n",
    "Na teoria das probabilidades, o Teorema Central do Limite estabelece que, à medida que o tamanho da amostra aumenta, a distribuição amostral da média se aproxima cada vez mais de uma distribuição normal.\n",
    "\n",
    "Para ilustrar esse conceito, este texto apresenta histogramas gerados a partir de arrays contendo valores aleatórios de tamanhos distintos: 10, 1000, 100.000 e 1.000.000. Os valores aleatórios foram obtidos utilizando a função ```np.randn()``` da biblioteca NumPy em Python. A análise visual dos histogramas permite observar como a distribuição amostral da média se aproxima de uma curva normal à medida que o tamanho da amostra aumenta."
   ]
  },
  {
   "cell_type": "code",
   "execution_count": 60,
   "metadata": {},
   "outputs": [
    {
     "data": {
      "text/plain": [
       "<matplotlib.patches.StepPatch at 0x12098d1d0>"
      ]
     },
     "execution_count": 60,
     "metadata": {},
     "output_type": "execute_result"
    },
    {
     "data": {
      "image/png": "[encoded data removed]",
      "text/plain": [
       "<Figure size 640x480 with 1 Axes>"
      ]
     },
     "metadata": {},
     "output_type": "display_data"
    }
   ],
   "source": [
    "dados = np.random.randn(10)\n",
    "k = int(1+3.3*math.log(dados.shape[0],10))\n",
    "counts, bins = np.histogram(dados,k)\n",
    "plt.stairs(counts, bins)\n"
   ]
  },
  {
   "cell_type": "code",
   "execution_count": 61,
   "metadata": {},
   "outputs": [
    {
     "data": {
      "text/plain": [
       "<matplotlib.patches.StepPatch at 0x120a22610>"
      ]
     },
     "execution_count": 61,
     "metadata": {},
     "output_type": "execute_result"
    },
    {
     "data": {
      "image/png": "[encoded data removed]",
      "text/plain": [
       "<Figure size 640x480 with 1 Axes>"
      ]
     },
     "metadata": {},
     "output_type": "display_data"
    }
   ],
   "source": [
    "dados = np.random.randn(1000)\n",
    "k = int(1+3.3*math.log(dados.shape[0],10))\n",
    "counts, bins = np.histogram(dados,k)\n",
    "plt.stairs(counts, bins)\n"
   ]
  },
  {
   "cell_type": "code",
   "execution_count": 62,
   "metadata": {},
   "outputs": [
    {
     "data": {
      "text/plain": [
       "<matplotlib.patches.StepPatch at 0x120d47090>"
      ]
     },
     "execution_count": 62,
     "metadata": {},
     "output_type": "execute_result"
    },
    {
     "data": {
      "image/png": "[encoded data removed]",
      "text/plain": [
       "<Figure size 640x480 with 1 Axes>"
      ]
     },
     "metadata": {},
     "output_type": "display_data"
    }
   ],
   "source": [
    "dados = np.random.randn(100000)\n",
    "k = int(1+3.3*math.log(dados.shape[0],10))\n",
    "counts, bins = np.histogram(dados,k)\n",
    "plt.stairs(counts, bins)"
   ]
  },
  {
   "cell_type": "code",
   "execution_count": 63,
   "metadata": {},
   "outputs": [
    {
     "data": {
      "text/plain": [
       "<matplotlib.patches.StepPatch at 0x120d76490>"
      ]
     },
     "execution_count": 63,
     "metadata": {},
     "output_type": "execute_result"
    },
    {
     "data": {
      "image/png": "[encoded data removed]",
      "text/plain": [
       "<Figure size 640x480 with 1 Axes>"
      ]
     },
     "metadata": {},
     "output_type": "display_data"
    }
   ],
   "source": [
    "dados = np.random.randn(1000000)\n",
    "k = int(1+3.3*math.log(dados.shape[0],10))\n",
    "counts, bins = np.histogram(dados,k)\n",
    "plt.stairs(counts, bins)"
   ]
  },
  {
   "cell_type": "markdown",
   "metadata": {},
   "source": [
    "### Implementação de Regressão Linear Multipla - (Exemplo implementado em sala de aula)"
   ]
  },
  {
   "cell_type": "code",
   "execution_count": 65,
   "metadata": {},
   "outputs": [
    {
     "data": {
      "text/plain": [
       "array([[1, 2, 4],\n",
       "       [1, 0, 6],\n",
       "       [1, 3, 4],\n",
       "       [1, 5, 5],\n",
       "       [1, 4, 4],\n",
       "       [1, 3, 5],\n",
       "       [1, 4, 6],\n",
       "       [1, 5, 8]])"
      ]
     },
     "execution_count": 65,
     "metadata": {},
     "output_type": "execute_result"
    }
   ],
   "source": [
    "p = np.array([[1,2,4], [1, 0,6], [1,3,4],[1,5,5], [1,4,4],[1,3,5],[1,4,6],[1,5,8]])\n",
    "p"
   ]
  },
  {
   "cell_type": "code",
   "execution_count": 66,
   "metadata": {},
   "outputs": [
    {
     "data": {
      "text/plain": [
       "array([200, 240, 250, 300, 310, 320, 325, 320])"
      ]
     },
     "execution_count": 66,
     "metadata": {},
     "output_type": "execute_result"
    }
   ],
   "source": [
    "y=np.array([200,240,250,300,310,320,325,320])\n",
    "y"
   ]
  },
  {
   "cell_type": "code",
   "execution_count": 67,
   "metadata": {},
   "outputs": [
    {
     "data": {
      "text/plain": [
       "array([[ 2.35856574, -0.10159363, -0.3625498 ],\n",
       "       [-0.10159363,  0.05378486, -0.01394422],\n",
       "       [-0.3625498 , -0.01394422,  0.07768924]])"
      ]
     },
     "execution_count": 67,
     "metadata": {},
     "output_type": "execute_result"
    }
   ],
   "source": [
    "inv = np.linalg.inv(np.matmul(p.T, p))\n",
    "inv\n"
   ]
  },
  {
   "cell_type": "code",
   "execution_count": 68,
   "metadata": {},
   "outputs": [
    {
     "data": {
      "text/plain": [
       "array([[ 0.70517928,  0.18326693,  0.60358566,  0.03784861,  0.50199203,\n",
       "         0.24103586, -0.22310757, -1.0498008 ],\n",
       "       [-0.0498008 , -0.18525896,  0.00398406,  0.09760956,  0.05776892,\n",
       "        -0.00996016,  0.02988048,  0.05577689],\n",
       "       [-0.07968127,  0.10358566, -0.0936255 , -0.0438247 , -0.10756972,\n",
       "        -0.01593625,  0.04780876,  0.18924303]])"
      ]
     },
     "execution_count": 68,
     "metadata": {},
     "output_type": "execute_result"
    }
   ],
   "source": [
    "theta = np.matmul(inv, p.T)\n",
    "theta"
   ]
  },
  {
   "cell_type": "code",
   "execution_count": 69,
   "metadata": {},
   "outputs": [
    {
     "data": {
      "text/plain": [
       "array([171.57370518,  18.1374502 ,  10.01992032])"
      ]
     },
     "execution_count": 69,
     "metadata": {},
     "output_type": "execute_result"
    }
   ],
   "source": [
    "theta = np.matmul(theta, y)\n",
    "theta"
   ]
  },
  {
   "cell_type": "markdown",
   "metadata": {},
   "source": [
    "# Análise de Componentes Principais e Decomposição em Valores Singulares"
   ]
  },
  {
   "cell_type": "markdown",
   "metadata": {},
   "source": [
    "#### Análise de Componentes Principais (PCA)\n",
    "\n",
    "A Análise de Componentes Principais (PCA) é uma técnica de redução de dimensionalidade utilizada para transformar um conjunto de dados em um novo conjunto com menor número de variáveis, preservando o máximo de informação possível. A PCA funciona projetando os dados em um novo espaço definido por um conjunto de vetores ortogonais chamados \"componentes principais\". Esses componentes são direcionados para capturar a maior variabilidade possível nos dados originais."
   ]
  },
  {
   "cell_type": "code",
   "execution_count": 70,
   "metadata": {},
   "outputs": [
    {
     "name": "stdout",
     "output_type": "stream",
     "text": [
      "Variância explicada por cada componente:\n",
      "[0.99244289 0.00755711]\n"
     ]
    }
   ],
   "source": [
    "dados = np.array([[-1, -1], [-2, -1], [-3, -2], [1, 1], [2, 1], [3, 2]])\n",
    "pca = PCA(n_components=2) \n",
    "pca.fit(dados)\n",
    "dados_transformados = pca.transform(dados)\n",
    "\n",
    "variance = pca.explained_variance_ratio_ #Explica a variância capturada por cada componente\n",
    "\n",
    "print(\"Variância explicada por cada componente:\")\n",
    "print(variance)"
   ]
  },
  {
   "cell_type": "code",
   "execution_count": 71,
   "metadata": {},
   "outputs": [
    {
     "data": {
      "text/plain": [
       "array([[-0.83849224, -0.54491354],\n",
       "       [ 0.54491354, -0.83849224]])"
      ]
     },
     "execution_count": 71,
     "metadata": {},
     "output_type": "execute_result"
    }
   ],
   "source": [
    "pca.components_ #componentes principais"
   ]
  },
  {
   "cell_type": "markdown",
   "metadata": {},
   "source": [
    "#### Análise de Componentes Principais (PCA)\n",
    "\n",
    "A Decomposição em Valor Singular (SVD) é uma técnica poderosa da álgebra linear com diversas aplicações em áreas como processamento de imagens, compressão de dados, redução de dimensionalidade e análise de dados.\n",
    "\n",
    "Em resumo, a SVD decompõe uma matriz em três outras matrizes:\n",
    "\n",
    "- Matriz U: Uma matriz ortogonal de dimensionamento igual ao da matriz original nas linhas e igual ao número de colunas da matriz original nas colunas.\n",
    "- Matriz S: Uma matriz diagonal com valores não negativos em ordem decrescente, chamados de valores singulares.\n",
    "- Matriz V: Uma matriz ortogonal transposta de dimensionamento igual ao número de colunas da matriz original nas linhas e igual ao número de colunas da matriz original nas colunas.\n",
    "\n",
    "A relação entre essas matrizes é definida pela seguinte equação:\n",
    "\n",
    "$A = U*A*V^T$"
   ]
  },
  {
   "cell_type": "code",
   "execution_count": 74,
   "metadata": {},
   "outputs": [
    {
     "data": {
      "text/plain": [
       "array([[1., 2., 3.],\n",
       "       [4., 5., 6.],\n",
       "       [7., 8., 9.]])"
      ]
     },
     "execution_count": 74,
     "metadata": {},
     "output_type": "execute_result"
    }
   ],
   "source": [
    "A = np.array([[1, 2, 3], [4, 5, 6], [7, 8, 9]])\n",
    "U, S, Vh = np.linalg.svd(A)\n",
    "# Reconstrução da matriz original\n",
    "A_recon = U @ np.diag(S) @ Vh"
   ]
  },
  {
   "cell_type": "code",
   "execution_count": 75,
   "metadata": {},
   "outputs": [
    {
     "name": "stdout",
     "output_type": "stream",
     "text": [
      "Matriz original:\n",
      "[[1 2 3]\n",
      " [4 5 6]\n",
      " [7 8 9]]\n",
      "\n",
      "Matriz U:\n",
      "[[-0.21483724  0.88723069  0.40824829]\n",
      " [-0.52058739  0.24964395 -0.81649658]\n",
      " [-0.82633754 -0.38794278  0.40824829]]\n",
      "\n",
      "Matriz S:\n",
      "[1.68481034e+01 1.06836951e+00 4.41842475e-16]\n",
      "\n",
      "Matriz V transposta:\n",
      "[[-0.47967118 -0.57236779 -0.66506441]\n",
      " [-0.77669099 -0.07568647  0.62531805]\n",
      " [-0.40824829  0.81649658 -0.40824829]]\n",
      "\n",
      "Matriz reconstruída:\n",
      "[[1. 2. 3.]\n",
      " [4. 5. 6.]\n",
      " [7. 8. 9.]]\n"
     ]
    }
   ],
   "source": [
    "print(\"Matriz original:\")\n",
    "print(A)\n",
    "\n",
    "print(\"\\nMatriz U:\")\n",
    "print(U)\n",
    "\n",
    "print(\"\\nMatriz S:\")\n",
    "print(S)\n",
    "\n",
    "print(\"\\nMatriz V transposta:\")\n",
    "print(Vh)\n",
    "\n",
    "print(\"\\nMatriz reconstruída:\")\n",
    "print(A_recon)"
   ]
  },
  {
   "cell_type": "markdown",
   "metadata": {},
   "source": [
    "# Análise Fatorial\n",
    "\n",
    "A Análise Fatorial é uma técnica estatística multivariada utilizada para identificar padrões e relações em um conjunto de dados. Através da Análise Fatorial, é possível reduzir a dimensionalidade do conjunto de dados, agrupando variáveis correlacionadas em um número menor de \"fatores\" latentes. \n",
    "\n",
    "A Análise Fatorial se baseia na ideia de que as variáveis observáveis em um conjunto de dados podem ser explicadas por um número menor de fatores latentes. Estes fatores latentes não são diretamente observáveis, mas podem ser inferidos a partir das correlações entre as variáveis observáveis.\n",
    "\n",
    "O processo de Análise Fatorial envolve as seguintes etapas:\n",
    "\n",
    "- 1-Cálculo da matriz de covariância: A matriz de covariância é calculada para quantificar a covariância entre cada par de variáveis observáveis.\n",
    "\n",
    "- 2-Seleção do método de extração: Diversos métodos podem ser utilizados para extrair os fatores latentes da matriz de covariância, como o método da análise de componentes principais (PCA) ou o método do máximo da verosimilhança.\n",
    "\n",
    "- 3-Rotação dos fatores: Os fatores extraídos podem ser rotacionados para facilitar a interpretação dos seus significados.\n",
    "\n",
    "- 4-Interpretação dos fatores: Cada fator é interpretado com base nas variáveis observáveis que carregam maiores pesos em ele."
   ]
  },
  {
   "cell_type": "code",
   "execution_count": 5,
   "metadata": {},
   "outputs": [
    {
     "name": "stdout",
     "output_type": "stream",
     "text": [
      "Loadings dos Fatores:\n",
      "                    Fator 1   Fator 2\n",
      "sepal length (cm)  0.880960 -0.447287\n",
      "sepal width (cm)  -0.416916 -0.553900\n",
      "petal length (cm)  0.999189  0.019153\n",
      "petal width (cm)   0.962289  0.058402\n"
     ]
    },
    {
     "data": {
      "image/png": "[encoded data removed]",
      "text/plain": [
       "<Figure size 1000x600 with 1 Axes>"
      ]
     },
     "metadata": {},
     "output_type": "display_data"
    }
   ],
   "source": [
    "from sklearn.decomposition import FactorAnalysis\n",
    "from sklearn.preprocessing import StandardScaler\n",
    "from sklearn.datasets import load_iris\n",
    "data = load_iris()\n",
    "X = data.data\n",
    "feature_names = data.feature_names\n",
    "\n",
    "# Padronizar os dados\n",
    "scaler = StandardScaler()\n",
    "X_scaled = scaler.fit_transform(X)\n",
    "\n",
    "# Configurar e ajustar a Análise Fatorial\n",
    "n_factors = 2  # Número de fatores desejados\n",
    "fa = FactorAnalysis(n_components=n_factors, random_state=0)\n",
    "X_factors = fa.fit_transform(X_scaled)\n",
    "\n",
    "# Criar um DataFrame com os resultados\n",
    "factors_df = pd.DataFrame(X_factors, columns=[f'Fator {i+1}' for i in range(n_factors)])\n",
    "factors_df['Espécie'] = data.target\n",
    "\n",
    "# Mostrar os loadings dos fatores\n",
    "loadings = pd.DataFrame(fa.components_.T, index=feature_names, columns=[f'Fator {i+1}' for i in range(n_factors)])\n",
    "print(\"Loadings dos Fatores:\")\n",
    "print(loadings)\n",
    "\n",
    "# Plotar os resultados\n",
    "plt.figure(figsize=(10, 6))\n",
    "for species, color in zip(range(len(data.target_names)), ['r', 'g', 'b']):\n",
    "    plt.scatter(X_factors[data.target == species, 0], X_factors[data.target == species, 1], \n",
    "                alpha=0.6, label=data.target_names[species], c=color)\n",
    "plt.xlabel('Fator 1')\n",
    "plt.ylabel('Fator 2')\n",
    "plt.title('Análise Fatorial do dataset Iris')\n",
    "plt.legend()\n",
    "plt.grid(True)\n",
    "plt.show()"
   ]
  },
  {
   "cell_type": "markdown",
   "metadata": {},
   "source": [
    "# Regressão Linear"
   ]
  },
  {
   "cell_type": "code",
   "execution_count": 4,
   "metadata": {},
   "outputs": [],
   "source": [
    "from sklearn.datasets import load_iris\n",
    "from sklearn.model_selection import train_test_split\n",
    "from sklearn.linear_model import LinearRegression\n",
    "import pandas as pd\n",
    "# Carregar o dataset iris\n",
    "iris = load_iris()"
   ]
  },
  {
   "cell_type": "code",
   "execution_count": 82,
   "metadata": {},
   "outputs": [],
   "source": [
    "iris = load_iris()\n",
    "iris_df = pd.DataFrame(data=iris.data, columns=iris.feature_names)\n",
    "target = pd.DataFrame(data=iris.target, columns=['species'])\n",
    "# Vamos usar o comprimento da sépala (sepal length) como variável independente\n",
    "X = iris_df[['sepal length (cm)']]\n",
    "# Vamos usar a largura da pétala (petal width) como variável dependente\n",
    "y = iris_df['petal width (cm)']"
   ]
  },
  {
   "cell_type": "code",
   "execution_count": 86,
   "metadata": {},
   "outputs": [
    {
     "name": "stdout",
     "output_type": "stream",
     "text": [
      "Coeficiente:  [0.73190186]\n",
      "Intercepto:  -3.0684065630742943\n"
     ]
    }
   ],
   "source": [
    "# Dividir os dados em conjunto de treino e teste\n",
    "X_train, X_test, y_train, y_test = train_test_split(X, y, test_size=0.2, random_state=42)\n",
    "\n",
    "# Criar um modelo de regressão linear\n",
    "model = LinearRegression()\n",
    "\n",
    "# Treinar o modelo com os dados de treino\n",
    "model.fit(X_train, y_train)\n",
    "\n",
    "# Fazer predições com os dados de teste\n",
    "y_pred = model.predict(X_test)\n",
    "# Coeficientes da regressão\n",
    "print('Coeficiente: ', model.coef_)\n",
    "print('Intercepto: ', model.intercept_)"
   ]
  },
  {
   "cell_type": "code",
   "execution_count": 87,
   "metadata": {},
   "outputs": [
    {
     "data": {
      "image/png": "[encoded data removed]",
      "text/plain": [
       "<Figure size 640x480 with 1 Axes>"
      ]
     },
     "metadata": {},
     "output_type": "display_data"
    }
   ],
   "source": [
    "# Scatter plot dos dados originais\n",
    "plt.scatter(X_test, y_test, color='blue', label='Dados Originais')\n",
    "\n",
    "# Plot da linha de regressão\n",
    "plt.plot(X_test, y_pred, color='red', linewidth=2, label='Regressão Linear')\n",
    "\n",
    "# Adicionar rótulos e título\n",
    "plt.xlabel('Comprimento da Sépala (cm)')\n",
    "plt.ylabel('Largura da Pétala (cm)')\n",
    "plt.title('Regressão Linear com Dataset Iris')\n",
    "plt.legend()\n",
    "\n",
    "# Exibir o gráfico\n",
    "plt.show()"
   ]
  },
  {
   "cell_type": "markdown",
   "metadata": {},
   "source": [
    "# Regressão Logística"
   ]
  },
  {
   "cell_type": "code",
   "execution_count": 88,
   "metadata": {},
   "outputs": [],
   "source": [
    "from sklearn.linear_model import LogisticRegression\n",
    "from sklearn.metrics import classification_report, confusion_matrix "
   ]
  },
  {
   "cell_type": "code",
   "execution_count": 91,
   "metadata": {},
   "outputs": [
    {
     "name": "stdout",
     "output_type": "stream",
     "text": [
      "Matriz de Confusão:\n",
      "[[10  0  0]\n",
      " [ 0  9  0]\n",
      " [ 0  0 11]]\n"
     ]
    }
   ],
   "source": [
    "target = pd.DataFrame(data=iris.target, columns=['species'])\n",
    "\n",
    "# Selecionar duas variáveis preditoras: sepal length e petal width\n",
    "X = iris_df[['sepal length (cm)', 'petal width (cm)']]\n",
    "# Variável dependente: espécie da íris\n",
    "y = iris.target\n",
    "\n",
    "# Dividir os dados em conjunto de treino e teste\n",
    "X_train, X_test, y_train, y_test = train_test_split(X, y, test_size=0.2, random_state=42)\n",
    "\n",
    "# Criar um modelo de regressão logística\n",
    "model = LogisticRegression(multi_class='auto', solver='lbfgs')\n",
    "# Treinar o modelo com os dados de treino\n",
    "model.fit(X_train, y_train)\n",
    "\n",
    "# Fazer predições com os dados de teste\n",
    "y_pred = model.predict(X_test)\n",
    "\n",
    "# Avaliar o modelo\n",
    "print('Matriz de Confusão:')\n",
    "print(confusion_matrix(y_test, y_pred))\n"
   ]
  },
  {
   "cell_type": "markdown",
   "metadata": {},
   "source": [
    "# Testes Estastísticos"
   ]
  },
  {
   "cell_type": "markdown",
   "metadata": {},
   "source": [
    "## Teste T de Student\n",
    "O Teste T de Student, também conhecido como Teste T, é um teste estatístico paramétrico utilizado para comparar duas amostras independentes e determinar se existe uma diferença estatisticamente significativa entre suas médias."
   ]
  },
  {
   "cell_type": "code",
   "execution_count": 8,
   "metadata": {},
   "outputs": [
    {
     "name": "stdout",
     "output_type": "stream",
     "text": [
      "Estatística t: -8.742509399622191\n",
      "Valor p: 3.5360473803851164e-12\n",
      "Há uma diferença significativa entre as duas amostras.\n"
     ]
    }
   ],
   "source": [
    "from scipy import stats\n",
    "\n",
    "# Gerar duas amostras aleatórias\n",
    "np.random.seed(42)  # Para reprodutibilidade\n",
    "sample1 = np.random.normal(loc=10, scale=1, size=30)  # Média 10, desvio padrão 1, tamanho 30\n",
    "sample2 = np.random.normal(loc=12, scale=1, size=30)  # Média 12, desvio padrão 1, tamanho 30\n",
    "\n",
    "# Realizar o teste t de Student\n",
    "t_stat, p_value = stats.ttest_ind(sample1, sample2)\n",
    "\n",
    "# Exibir os resultados\n",
    "print(f\"Estatística t: {t_stat}\")\n",
    "print(f\"Valor p: {p_value}\")\n",
    "\n",
    "# Interpretar os resultados\n",
    "alpha = 0.05  # Nível de significância\n",
    "if p_value < alpha:\n",
    "    print(\"Há uma diferença significativa entre as duas amostras.\")\n",
    "else:\n",
    "    print(\"Não há diferença significativa entre as duas amostras.\")"
   ]
  },
  {
   "cell_type": "markdown",
   "metadata": {},
   "source": [
    "## Teste F"
   ]
  },
  {
   "cell_type": "code",
   "execution_count": 10,
   "metadata": {},
   "outputs": [
    {
     "name": "stdout",
     "output_type": "stream",
     "text": [
      "F: 0.5050691055871487\n",
      "Valor p: 1.6765587394703594\n",
      "Não há diferença significativa entre as variâncias das duas amostras.\n"
     ]
    }
   ],
   "source": [
    "import numpy as np\n",
    "from scipy import stats\n",
    "\n",
    "sample1 = np.random.normal(loc=10, scale=1, size=10)  \n",
    "sample2 = np.random.normal(loc=12, scale=1, size=10)  \n",
    "\n",
    "# Calcular as variâncias das amostras\n",
    "var1 = np.var(sample1, ddof=1)\n",
    "var2 = np.var(sample2, ddof=1)\n",
    "\n",
    "f_stat = var1 / var2\n",
    "df1 = len(sample1) - 1\n",
    "df2 = len(sample2) - 1\n",
    "p_value = 1 - stats.f.cdf(f_stat, df1, df2)\n",
    "p_value = p_value * 2\n",
    "\n",
    "print(f\"F: {f_stat}\")\n",
    "print(f\"Valor p: {p_value}\")\n",
    "\n",
    "alpha = 0.05  # Nível de significância\n",
    "if p_value < alpha:\n",
    "    print(\"Há uma diferença significativa entre as variâncias das duas amostras.\")\n",
    "else:\n",
    "    print(\"Não há diferença significativa entre as variâncias das duas amostras.\")"
   ]
  },
  {
   "cell_type": "markdown",
   "metadata": {},
   "source": [
    "# Performance de Operações de Matrizes"
   ]
  },
  {
   "cell_type": "code",
   "execution_count": null,
   "metadata": {},
   "outputs": [],
   "source": [
    "import time\n",
    "\n",
    "# Função para gerar matrizes aleatórias\n",
    "def gerar_matriz_aleatoria(tamanho):\n",
    "    return np.random.rand(tamanho, tamanho)\n",
    "\n",
    "tamanhos_matrizes = [10, 100, 1000, 10000, 100000, 1000000]\n",
    "\n",
    "tempos_multiplicacao = []\n",
    "\n",
    "for tamanho in tamanhos_matrizes:\n",
    "  \n",
    "  matriz1 = gerar_matriz_aleatoria(tamanho)\n",
    "  matriz2 = gerar_matriz_aleatoria(tamanho)\n",
    "\n",
    "\n",
    "  inicio = time.time()\n",
    "  np.dot(matriz1, matriz2)\n",
    "  fim = time.time()\n",
    "\n",
    "\n",
    "  tempo_gasto = fim - inicio\n",
    "  tempos_multiplicacao.append(tempo_gasto)\n",
    "\n",
    "# Geração do gráfico\n",
    "plt.figure(figsize=(10, 6))\n",
    "plt.plot(tamanhos_matrizes, tempos_multiplicacao, marker='o', linestyle='-')\n",
    "plt.title('Tempo de Multiplicação de Matrizes')\n",
    "plt.xlabel('Tamanho da Matriz (N x N)')\n",
    "plt.ylabel('Tempo (segundos)')\n",
    "plt.grid(True)\n",
    "plt.xscale('log')\n",
    "plt.yscale('log')\n",
    "\n",
    "# Exibir o gráfico\n",
    "plt.show()"
   ]
  }
 ],
 "metadata": {
  "kernelspec": {
   "display_name": "Python 3",
   "language": "python",
   "name": "python3"
  },
  "language_info": {
   "codemirror_mode": {
    "name": "ipython",
    "version": 3
   },
   "file_extension": ".py",
   "mimetype": "text/x-python",
   "name": "python",
   "nbconvert_exporter": "python",
   "pygments_lexer": "ipython3",
   "version": "3.11.7"
  }
 },
 "nbformat": 4,
 "nbformat_minor": 2
}
